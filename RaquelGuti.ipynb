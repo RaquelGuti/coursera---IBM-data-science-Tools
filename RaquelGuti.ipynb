{
  "metadata": {
    "kernelspec": {
      "name": "python",
      "display_name": "Python (Pyodide)",
      "language": "python"
    },
    "language_info": {
      "codemirror_mode": {
        "name": "python",
        "version": 3
      },
      "file_extension": ".py",
      "mimetype": "text/x-python",
      "name": "python",
      "nbconvert_exporter": "python",
      "pygments_lexer": "ipython3",
      "version": "3.8"
    }
  },
  "nbformat_minor": 4,
  "nbformat": 4,
  "cells": [
    {
      "cell_type": "markdown",
      "source": "# Data Science Tools and Ecosystem",
      "metadata": {}
    },
    {
      "cell_type": "markdown",
      "source": "## In this notebook, Data science Tools and Ecosystem are summarized.",
      "metadata": {}
    },
    {
      "cell_type": "markdown",
      "source": "## Some of the popular languages that Data Scientists use are:\n\n\n* **Python**\n* **R language**\n* **SQL**",
      "metadata": {}
    },
    {
      "cell_type": "markdown",
      "source": "| Data science Tools | \n| -------------------|\n| Jupyter Notebook   |\n| Rstudio            |\n| Apache Zeppelin    |",
      "metadata": {}
    },
    {
      "cell_type": "markdown",
      "source": "|Data Science Tools | Category | Description |\n| --- | --- | --- |\n| Python | Programming Language | Widely used high-level programming language for general-purpose programming |\n| R | Programming Language | A language and environment for statistical computing and graphics |\n| SQL | Database Language | A standard language for managing data held in relational database management systems |\n| Jupyter Notebook | IDE | An open-source web application that allows you to create and share documents that contain live code, equations, visualizations and narrative text |\n| TensorFlow | Machine Learning Library | An open source machine learning framework for everyone |\n| PyTorch | Machine Learning Library | An open source machine learning library based on the Torch library, used for applications such as computer vision and natural language processing |\n| Pandas | Data Manipulation Tool | A software library for data manipulation and analysis |\n| Numpy | Mathematical Library | A library for the Python programming language, adding support for large, multi-dimensional arrays and matrices, along with a large collection of high-level mathematical functions |\n| Matplotlib | Data Visualization Tool | A plotting library for the Python programming language |\n| Scikit-learn | Machine Learning Library | A free software machine learning library for the Python programming language |",
      "metadata": {}
    },
    {
      "cell_type": "markdown",
      "source": "### Below are a few examples of evaluating arithmetic expressions in Python",
      "metadata": {}
    },
    {
      "cell_type": "code",
      "source": "# This a simple arithmetic expression to mutiply then add integers\ndef calculate_expression():\n    multiplication = 3 * 4\n    result = multiplication + 5\n\n    return result\n\n# Calculate and print the result\nresult = calculate_expression()\nresult\n",
      "metadata": {
        "trusted": true
      },
      "outputs": [
        {
          "execution_count": 7,
          "output_type": "execute_result",
          "data": {
            "text/plain": "17"
          },
          "metadata": {}
        }
      ],
      "execution_count": 7
    },
    {
      "cell_type": "code",
      "source": "# Function to convert minutes to hours\ndef convert_minutes_to_hours(minutes):\n    hours = minutes / 60\n    return hours\n\n# Convert 200 minutes to hours\nhours = convert_minutes_to_hours(200)\nhours",
      "metadata": {
        "trusted": true
      },
      "outputs": [
        {
          "execution_count": 8,
          "output_type": "execute_result",
          "data": {
            "text/plain": "3.3333333333333335"
          },
          "metadata": {}
        }
      ],
      "execution_count": 8
    },
    {
      "cell_type": "markdown",
      "source": "**Objectives:**\n\n- Learn how to use Jupyter Notebook and how to upload the files on Github.\n- Understand the languages that data scienits used\n- simple examples of evaluating arithmetic expressions in Python\n",
      "metadata": {}
    },
    {
      "cell_type": "markdown",
      "source": "## Author\n\nRaquel Gutierrez\n",
      "metadata": {}
    },
    {
      "cell_type": "code",
      "source": "",
      "metadata": {
        "trusted": true
      },
      "outputs": [],
      "execution_count": null
    }
  ]
}